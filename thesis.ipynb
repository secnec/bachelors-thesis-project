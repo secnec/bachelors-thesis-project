{
 "cells": [
  {
   "cell_type": "code",
   "execution_count": 14,
   "metadata": {},
   "outputs": [],
   "source": [
    "import pandas as pd\n",
    "import numpy as np\n",
    "import os\n",
    "import matplotlib.pyplot as plt\n",
    "import seaborn as sns\n",
    "%matplotlib inline\n",
    "\n",
    "import warnings\n",
    "\n",
    "warnings.filterwarnings('ignore')\n",
    "\n",
    "pd.set_option('display.max_columns', None)"
   ]
  },
  {
   "cell_type": "code",
   "execution_count": null,
   "metadata": {},
   "outputs": [],
   "source": [
    "\n",
    "datalocation = './datasets.uwf.edu/data/UWF-ZeekData22/'\n",
    "\n",
    "cols = ['resp_pkts', \n",
    "        'service', \n",
    "        'orig_ip_bytes', \n",
    "        'local_resp', \n",
    "        'missed_bytes',\n",
    "        'protocol', \n",
    "        'duration', \n",
    "        'conn_state', \n",
    "        'dest_ip', \n",
    "        'orig_pkts',\n",
    "        'community_id', \n",
    "        'resp_ip_bytes', \n",
    "        'dest_port', \n",
    "        'orig_bytes',\n",
    "        'local_orig', \n",
    "        'datetime', \n",
    "        'history', \n",
    "        'resp_bytes', \n",
    "        'uid', \n",
    "        'src_port',\n",
    "        'ts', \n",
    "        'src_ip', \n",
    "        'mitre_attack_tactics'\n",
    "        ]\n",
    "\n",
    "for root, dirs, files in os.walk(datalocation):\n",
    "    for name in files:\n",
    "        if name.endswith('.csv'):\n",
    "          dfi = pd.read_csv(os.path.join(root, name))       \n",
    "        if name.endswith('.parquet'):\n",
    "          dfi = pd.read_parquet(os.path.join(root, name), engine='pyarrow')\n",
    "        df =  pd.DataFrame(np.concatenate([df.values, dfi.values]), columns=cols)\n",
    "        print(os.path.join(root, name))\n",
    "\n"
   ]
  },
  {
   "cell_type": "code",
   "execution_count": null,
   "metadata": {},
   "outputs": [],
   "source": [
    "df.replace(np.nan,0)"
   ]
  },
  {
   "cell_type": "code",
   "execution_count": 32,
   "metadata": {},
   "outputs": [],
   "source": [
    "#Select target and the columns for clustering\n",
    "\n",
    "y = pd.DataFrame(df.mitre_attack_tactics)\n",
    "X = df[['resp_pkts', 'service', 'orig_ip_bytes', 'local_resp', 'missed_bytes', 'protocol', 'duration', 'conn_state', 'orig_pkts', 'resp_ip_bytes', 'dest_port', 'orig_bytes', 'local_orig', 'resp_bytes', 'src_port', 'mitre_attack_tactics']].copy()\n"
   ]
  },
  {
   "cell_type": "code",
   "execution_count": null,
   "metadata": {},
   "outputs": [],
   "source": [
    "#Convert categorical variable into integers\n",
    "\n",
    "from sklearn.preprocessing import LabelEncoder\n",
    "\n",
    "le = LabelEncoder()\n",
    "\n",
    "for i in ['service', 'local_resp', 'protocol', 'conn_state' 'local_orig', 'mitre_attack_tactics']:\n",
    "    X[i] = le.fit_transform(X[i])\n",
    "y = le.transform(y)"
   ]
  },
  {
   "cell_type": "code",
   "execution_count": null,
   "metadata": {},
   "outputs": [],
   "source": [
    "#scale numerical values\n",
    "\n",
    "from sklearn.preprocessing import MinMaxScaler\n",
    "\n",
    "ms = MinMaxScaler()\n",
    "\n",
    "X = ms.fit_transform(X)\n",
    "\n",
    "X = pd.DataFrame(X, columns=[cols])"
   ]
  },
  {
   "cell_type": "code",
   "execution_count": null,
   "metadata": {},
   "outputs": [],
   "source": [
    "from sklearn.cluster import KMeans\n",
    "\n",
    "kmeans = KMeans(n_clusters=6, random_state=0) \n",
    "\n",
    "kmeans.fit(X)\n",
    "\n",
    "kmeans.inertia_"
   ]
  },
  {
   "cell_type": "code",
   "execution_count": null,
   "metadata": {},
   "outputs": [],
   "source": [
    "labels = kmeans.labels_\n",
    "\n",
    "# check how many of the samples were correctly labeled\n",
    "correct_labels = sum(y == labels)\n",
    "\n",
    "print(\"Result: %d out of %d samples were correctly labeled.\" % (correct_labels, y.size))"
   ]
  }
 ],
 "metadata": {
  "kernelspec": {
   "display_name": "base",
   "language": "python",
   "name": "python3"
  },
  "language_info": {
   "codemirror_mode": {
    "name": "ipython",
    "version": 3
   },
   "file_extension": ".py",
   "mimetype": "text/x-python",
   "name": "python",
   "nbconvert_exporter": "python",
   "pygments_lexer": "ipython3",
   "version": "3.8.8"
  },
  "orig_nbformat": 4
 },
 "nbformat": 4,
 "nbformat_minor": 2
}
