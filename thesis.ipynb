{
  "cells": [
    {
      "cell_type": "code",
      "source": [
        "import pandas as pd\r\n",
        "import numpy as np\r\n",
        "import os\r\n",
        "import matplotlib.pyplot as plt\r\n",
        "#import seaborn as sns\r\n",
        "%matplotlib inline\r\n",
        "\r\n",
        "import warnings\r\n",
        "\r\n",
        "warnings.filterwarnings('ignore')\r\n",
        "\r\n",
        "pd.set_option('display.max_columns', None)"
      ],
      "outputs": [],
      "execution_count": null,
      "metadata": {
        "gather": {
          "logged": 1678800015129
        }
      }
    },
    {
      "cell_type": "code",
      "source": [
        "datalocation = './datasets.uwf.edu/data/UWF-ZeekData22/'\r\n",
        "\r\n",
        "cols = ['resp_pkts', \r\n",
        "        'service', \r\n",
        "        'orig_ip_bytes', \r\n",
        "        'local_resp', \r\n",
        "        'missed_bytes',\r\n",
        "        'protocol', \r\n",
        "        'duration', \r\n",
        "        'conn_state', \r\n",
        "        'dest_ip', \r\n",
        "        'orig_pkts',\r\n",
        "        'community_id', \r\n",
        "        'resp_ip_bytes', \r\n",
        "        'dest_port', \r\n",
        "        'orig_bytes',\r\n",
        "        'local_orig', \r\n",
        "        'datetime', \r\n",
        "        'history', \r\n",
        "        'resp_bytes', \r\n",
        "        'uid', \r\n",
        "        'src_port',\r\n",
        "        'ts', \r\n",
        "        'src_ip', \r\n",
        "        'mitre_attack_tactics'\r\n",
        "        ]\r\n",
        "\r\n",
        "df = pd.DataFrame(columns=cols)\r\n",
        "\r\n",
        "for root, dirs, files in os.walk(datalocation):\r\n",
        "    for name in files:\r\n",
        "        if name.endswith('.csv'):\r\n",
        "          dfi = pd.read_csv(os.path.join(root, name))       \r\n",
        "          df =  pd.DataFrame(np.concatenate([df.values, dfi.values]), columns=cols)\r\n",
        "        if name.endswith('.parquet'):\r\n",
        "          dfi = pd.read_parquet(os.path.join(root, name), engine='pyarrow')\r\n",
        "          df =  pd.DataFrame(np.concatenate([df.values, dfi.values]), columns=cols)\r\n",
        "        print(os.path.join(root, name))"
      ],
      "outputs": [],
      "execution_count": null,
      "metadata": {
        "jupyter": {
          "source_hidden": false,
          "outputs_hidden": false
        },
        "nteract": {
          "transient": {
            "deleting": false
          }
        },
        "gather": {
          "logged": 1678800095443
        }
      }
    },
    {
      "cell_type": "code",
      "source": [
        "df"
      ],
      "outputs": [],
      "execution_count": null,
      "metadata": {
        "jupyter": {
          "source_hidden": false,
          "outputs_hidden": false
        },
        "nteract": {
          "transient": {
            "deleting": false
          }
        },
        "gather": {
          "logged": 1678800274972
        }
      }
    },
    {
      "cell_type": "code",
      "source": [
        "#Select target and the columns for clustering\r\n",
        "\r\n",
        "select = ['resp_pkts', 'service', 'orig_ip_bytes', 'local_resp', 'missed_bytes', 'protocol', 'duration', 'conn_state', 'orig_pkts', 'resp_ip_bytes', 'dest_port', 'orig_bytes', 'local_orig', 'resp_bytes', 'src_port', 'mitre_attack_tactics']\r\n",
        "\r\n",
        "y = pd.DataFrame(df.mitre_attack_tactics)\r\n",
        "X = df[select].copy()"
      ],
      "outputs": [],
      "execution_count": null,
      "metadata": {
        "jupyter": {
          "source_hidden": false,
          "outputs_hidden": false
        },
        "nteract": {
          "transient": {
            "deleting": false
          }
        },
        "gather": {
          "logged": 1678800303078
        }
      }
    },
    {
      "cell_type": "code",
      "source": [
        "#Convert categorical variable into integers\r\n",
        "\r\n",
        "from sklearn.preprocessing import LabelEncoder\r\n",
        "\r\n",
        "le = LabelEncoder()\r\n",
        "\r\n",
        "for i in ['service', 'local_resp', 'protocol', 'conn_state', 'local_orig', 'mitre_attack_tactics']:\r\n",
        "    X[i] = le.fit_transform(X[i])\r\n",
        "y = le.transform(y)"
      ],
      "outputs": [],
      "execution_count": null,
      "metadata": {
        "jupyter": {
          "source_hidden": false,
          "outputs_hidden": false
        },
        "nteract": {
          "transient": {
            "deleting": false
          }
        },
        "gather": {
          "logged": 1678800360111
        }
      }
    },
    {
      "cell_type": "code",
      "source": [
        "X.fillna(0, inplace=True)"
      ],
      "outputs": [],
      "execution_count": null,
      "metadata": {
        "jupyter": {
          "source_hidden": false,
          "outputs_hidden": false
        },
        "nteract": {
          "transient": {
            "deleting": false
          }
        },
        "gather": {
          "logged": 1678800410780
        }
      }
    },
    {
      "cell_type": "code",
      "source": [
        "#scale numerical values\r\n",
        "\r\n",
        "from sklearn.preprocessing import MinMaxScaler\r\n",
        "\r\n",
        "ms = MinMaxScaler()\r\n",
        "\r\n",
        "X = ms.fit_transform(X)\r\n",
        "\r\n",
        "X = pd.DataFrame(X, columns=[select])\r\n",
        "\r\n"
      ],
      "outputs": [],
      "execution_count": null,
      "metadata": {
        "jupyter": {
          "source_hidden": false,
          "outputs_hidden": false
        },
        "nteract": {
          "transient": {
            "deleting": false
          }
        },
        "gather": {
          "logged": 1678800417393
        }
      }
    },
    {
      "cell_type": "code",
      "source": [
        "from sklearn.cluster import KMeans\r\n",
        "\r\n",
        "kmeans = KMeans(n_clusters=6, random_state=0) \r\n",
        "\r\n",
        "kmeans.fit(X)\r\n",
        "\r\n",
        "kmeans.inertia_"
      ],
      "outputs": [],
      "execution_count": null,
      "metadata": {
        "jupyter": {
          "source_hidden": false,
          "outputs_hidden": false
        },
        "nteract": {
          "transient": {
            "deleting": false
          }
        },
        "gather": {
          "logged": 1678800470947
        }
      }
    },
    {
      "cell_type": "code",
      "source": [
        "labels = kmeans.labels_\r\n",
        "\r\n",
        "# check how many of the samples were correctly labeled\r\n",
        "correct_labels = sum(y == labels)\r\n",
        "\r\n",
        "print(\"Result: %d out of %d samples were correctly labeled.\" % (correct_labels, y.size))"
      ],
      "outputs": [],
      "execution_count": null,
      "metadata": {
        "jupyter": {
          "source_hidden": false,
          "outputs_hidden": false
        },
        "nteract": {
          "transient": {
            "deleting": false
          }
        },
        "gather": {
          "logged": 1678800485966
        }
      }
    }
  ],
  "metadata": {
    "kernelspec": {
      "name": "python310-sdkv2",
      "language": "python",
      "display_name": "Python 3.10 - SDK v2"
    },
    "language_info": {
      "name": "python",
      "version": "3.10.9",
      "mimetype": "text/x-python",
      "codemirror_mode": {
        "name": "ipython",
        "version": 3
      },
      "pygments_lexer": "ipython3",
      "nbconvert_exporter": "python",
      "file_extension": ".py"
    },
    "microsoft": {
      "ms_spell_check": {
        "ms_spell_check_language": "en"
      },
      "host": {
        "AzureML": {
          "notebookHasBeenCompleted": true
        }
      }
    },
    "kernel_info": {
      "name": "python310-sdkv2"
    },
    "nteract": {
      "version": "nteract-front-end@1.0.0"
    }
  },
  "nbformat": 4,
  "nbformat_minor": 2
}