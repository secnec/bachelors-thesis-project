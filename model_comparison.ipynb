{
  "cells": [
    {
      "cell_type": "code",
      "execution_count": null,
      "metadata": {
        "gather": {
          "logged": 1678818047522
        }
      },
      "outputs": [],
      "source": [
        "import pandas as pd\n",
        "import numpy as np\n",
        "import os\n",
        "import matplotlib.pyplot as plt\n",
        "\n",
        "import warnings\n",
        "\n",
        "warnings.filterwarnings('ignore')\n",
        "\n",
        "pd.set_option('display.max_columns', None)"
      ]
    },
    {
      "cell_type": "code",
      "execution_count": null,
      "metadata": {
        "gather": {
          "logged": 1678818116813
        },
        "jupyter": {
          "outputs_hidden": false,
          "source_hidden": false
        },
        "nteract": {
          "transient": {
            "deleting": false
          }
        }
      },
      "outputs": [],
      "source": [
        "datalocation = './datasets.uwf.edu/data/UWF-ZeekData22/'\n",
        "\n",
        "cols = ['resp_pkts', \n",
        "        'service', \n",
        "        'orig_ip_bytes', \n",
        "        'local_resp', \n",
        "        'missed_bytes',\n",
        "        'protocol', \n",
        "        'duration', \n",
        "        'conn_state', \n",
        "        'dest_ip', \n",
        "        'orig_pkts',\n",
        "        'community_id', \n",
        "        'resp_ip_bytes', \n",
        "        'dest_port', \n",
        "        'orig_bytes',\n",
        "        'local_orig', \n",
        "        'datetime', \n",
        "        'history', \n",
        "        'resp_bytes', \n",
        "        'uid', \n",
        "        'src_port',\n",
        "        'ts', \n",
        "        'src_ip', \n",
        "        'mitre_attack_tactics'\n",
        "        ]\n",
        "\n",
        "df = pd.DataFrame(columns=cols)\n",
        "\n",
        "for root, dirs, files in os.walk(datalocation):\n",
        "    for name in files:\n",
        "        if name.endswith('.csv'):\n",
        "          dfi = pd.read_csv(os.path.join(root, name))       \n",
        "        elif name.endswith('.parquet'):\n",
        "          dfi = pd.read_parquet(os.path.join(root, name), engine='pyarrow')\n",
        "        else:\n",
        "          continue\n",
        "        if dfi.shape[1] != 23:\n",
        "          print(\"wrong shape: \", os.path.join(name))\n",
        "          continue\n",
        "        print(os.path.join(name))\n",
        "        df =  pd.DataFrame(np.concatenate([df.values, dfi.values]), columns=cols)\n",
        "print(df.shape)\n",
        "        "
      ]
    },
    {
      "cell_type": "code",
      "execution_count": null,
      "metadata": {
        "gather": {
          "logged": 1678818121540
        },
        "jupyter": {
          "outputs_hidden": false,
          "source_hidden": false
        },
        "nteract": {
          "transient": {
            "deleting": false
          }
        }
      },
      "outputs": [],
      "source": [
        "select = ['resp_pkts', 'service', 'orig_ip_bytes', 'local_resp', 'missed_bytes', 'protocol', 'duration', 'conn_state', 'orig_pkts', 'resp_ip_bytes', 'dest_port', 'orig_bytes', 'local_orig', 'resp_bytes', 'src_port', 'mitre_attack_tactics']\n",
        "\n",
        "X = df[select].copy()\n",
        "\n",
        "y = pd.DataFrame(X.mitre_attack_tactics)"
      ]
    },
    {
      "cell_type": "code",
      "execution_count": null,
      "metadata": {
        "gather": {
          "logged": 1678818143635
        },
        "jupyter": {
          "outputs_hidden": false,
          "source_hidden": false
        },
        "nteract": {
          "transient": {
            "deleting": false
          }
        }
      },
      "outputs": [],
      "source": [
        "from sklearn.preprocessing import LabelEncoder\n",
        "\n",
        "le = LabelEncoder()\n",
        "\n",
        "for i in ['service', 'local_resp', 'protocol', 'conn_state', 'local_orig', 'mitre_attack_tactics']:\n",
        "    X[i] = le.fit_transform(X[i])\n",
        "y = le.transform(y)"
      ]
    },
    {
      "cell_type": "code",
      "execution_count": null,
      "metadata": {},
      "outputs": [],
      "source": [
        "X.fillna(0, inplace=True)"
      ]
    },
    {
      "cell_type": "code",
      "execution_count": null,
      "metadata": {},
      "outputs": [],
      "source": [
        "#scale numerical values\n",
        "\n",
        "from sklearn.preprocessing import StandardScaler\n",
        "\n",
        "s = StandardScaler()\n",
        "\n",
        "X = s.fit_transform(X)\n",
        "\n",
        "X = pd.DataFrame(X, columns=[select])"
      ]
    },
    {
      "cell_type": "code",
      "execution_count": null,
      "metadata": {},
      "outputs": [],
      "source": [
        "from sklearn.cluster import KMeans\n",
        "\n",
        "kmeans = KMeans(n_clusters=8, random_state=0) \n",
        "kmeans.fit(X)\n",
        "labels = kmeans.labels_\n",
        "correct_labels = sum(y == labels)\n",
        "\n",
        "print('K-means correctly labeled: ', round(correct_labels/y.size, 2))"
      ]
    },
    {
      "cell_type": "code",
      "execution_count": null,
      "metadata": {},
      "outputs": [],
      "source": [
        "from sklearn.model_selection import train_test_split\n",
        "from sklearn.naive_bayes import GaussianNB\n",
        "\n",
        "X_train, X_test, y_train, y_test = train_test_split(X, y, test_size=0.2, random_state=0)\n",
        "gnb = GaussianNB()\n",
        "y_pred = gnb.fit(X_train, y_train).predict(X_test)\n",
        "\n",
        "print('Naïve Bayes correctly classified: ', round((y_test == y_pred).sum()/X_test.shape[0], 2))"
      ]
    },
    {
      "cell_type": "code",
      "execution_count": null,
      "metadata": {
        "gather": {
          "logged": 1678816221012
        },
        "jupyter": {
          "outputs_hidden": false,
          "source_hidden": false
        },
        "nteract": {
          "transient": {
            "deleting": false
          }
        }
      },
      "outputs": [],
      "source": [
        "from sklearn.neural_network import MLPRegressor\n",
        "\n",
        "X_train, X_test, y_train, y_test = train_test_split(X, y, test_size=0.2, random_state=0)\n",
        "mlp = MLPRegressor(random_state = 1)\n",
        "\n",
        "y_pred = mlp.fit(X_train, y_train).predict(X_test)\n",
        "\n",
        "print('MLP correctly classified: ', round((y_test == y_pred).sum()/X_test.shape[0], 2))"
      ]
    }
  ],
  "metadata": {
    "kernel_info": {
      "name": "python310-sdkv2"
    },
    "kernelspec": {
      "display_name": "Python 3.10 - SDK v2",
      "language": "python",
      "name": "python310-sdkv2"
    },
    "language_info": {
      "codemirror_mode": {
        "name": "ipython",
        "version": 3
      },
      "file_extension": ".py",
      "mimetype": "text/x-python",
      "name": "python",
      "nbconvert_exporter": "python",
      "pygments_lexer": "ipython3",
      "version": "3.10.9"
    },
    "microsoft": {
      "host": {
        "AzureML": {
          "notebookHasBeenCompleted": true
        }
      },
      "ms_spell_check": {
        "ms_spell_check_language": "en"
      }
    },
    "nteract": {
      "version": "nteract-front-end@1.0.0"
    }
  },
  "nbformat": 4,
  "nbformat_minor": 2
}
