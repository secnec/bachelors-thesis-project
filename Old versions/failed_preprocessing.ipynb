{
 "cells": [
  {
   "cell_type": "code",
   "execution_count": 1,
   "metadata": {},
   "outputs": [],
   "source": [
    "import pandas as pd\n",
    "import numpy as np\n",
    "import os"
   ]
  },
  {
   "cell_type": "code",
   "execution_count": 9,
   "metadata": {},
   "outputs": [
    {
     "name": "stdout",
     "output_type": "stream",
     "text": [
      "part-00000-36d29ab0-aecd-4e34-8d7a-cf9b94be3fea-c000.csv\n",
      "part-00000-0af89d10-df53-44fd-b124-a8a496fd5023-c000.csv\n",
      "part-00000-8283e5f3-ac2e-4523-a7f0-f98f0c7d879f-c000.csv\n",
      "part-00000-5b4f5c3f-e8a9-4020-8fa1-e8985f7c27f3-c000.csv\n",
      "part-00000-bd55a170-4439-45b0-9122-9a6b9da9760e-c000.csv\n",
      "part-00000-318611a1-7cdc-4dd0-9348-c6368917fd0c-c000.csv\n",
      "part-00000-95e0a460-e7c5-4b35-8367-c2e6fbbcf9e1-c000.csv\n",
      "part-00000-0f7bf56c-ed34-4235-a8d4-1c86eac7ff66-c000.csv\n",
      "part-00000-15e3dd03-ea76-429e-a52a-ce96a90517f9-c000.csv\n",
      "part-00000-12352875-21a6-4bd8-aaf1-922e121ef289-c000.csv\n",
      "part-00000-26e9208e-7819-451b-b23f-2e47f6d1e834-c000.snappy.parquet\n",
      "wrong shape:  part-00000-d32a9d5e-45b7-4e51-807e-1af297aba2df-c000.csv\n",
      "part-00000-df678a79-4a73-452b-8e72-d624b2732f17-c000.snappy.parquet\n",
      "part-00000-b1a9fc13-8068-4a5d-91b2-871438709e81-c000.snappy.parquet\n",
      "part-00000-7c2e9adb-5430-4792-a42b-10ff5bbd46e8-c000.snappy.parquet\n",
      "part-00000-3f86626a-1225-47f9-a5a2-0170b737e404-c000.snappy.parquet\n",
      "part-00000-cbf26680-106d-40e7-8278-60520afdbb0e-c000.snappy.parquet\n",
      "part-00000-36240b61-b84f-4164-a873-d7973e652780-c000.snappy.parquet\n",
      "part-00000-1da06990-329c-4e38-913a-0f0aa39b388d-c000.snappy.parquet\n",
      "(22651908, 23)\n"
     ]
    }
   ],
   "source": [
    "datalocation = './datasets.uwf.edu/data/UWF-ZeekData22/'\n",
    "\n",
    "cols = ['resp_pkts', \n",
    "        'service', \n",
    "        'orig_ip_bytes', \n",
    "        'local_resp', \n",
    "        'missed_bytes',\n",
    "        'protocol', \n",
    "        'duration', \n",
    "        'conn_state', \n",
    "        'dest_ip', \n",
    "        'orig_pkts',\n",
    "        'community_id', \n",
    "        'resp_ip_bytes', \n",
    "        'dest_port', \n",
    "        'orig_bytes',\n",
    "        'local_orig', \n",
    "        'datetime', \n",
    "        'history', \n",
    "        'resp_bytes', \n",
    "        'uid', \n",
    "        'src_port',\n",
    "        'ts', \n",
    "        'src_ip', \n",
    "        'mitre_attack_tactics'\n",
    "        ]\n",
    "\n",
    "df = pd.DataFrame(columns=cols)\n",
    "\n",
    "for root, dirs, files in os.walk(datalocation):\n",
    "    for name in files:\n",
    "        if name.endswith('.csv'):\n",
    "            dfi = pd.read_csv(os.path.join(root, name))       \n",
    "        elif name.endswith('.parquet'):\n",
    "            dfi = pd.read_parquet(os.path.join(root, name), engine='pyarrow')\n",
    "            \n",
    "        else:\n",
    "          continue\n",
    "        if dfi.shape[1] != 23:\n",
    "          print(\"wrong shape: \", os.path.join(name))\n",
    "          continue\n",
    "        print(os.path.join(name))\n",
    "        df =  pd.DataFrame(np.concatenate([df.values, dfi.values]), columns=cols)\n",
    "print(df.shape)\n",
    "        "
   ]
  },
  {
   "cell_type": "code",
   "execution_count": 11,
   "metadata": {},
   "outputs": [
    {
     "data": {
      "text/plain": [
       "IntervalIndex([(-inf, 0.0], (0.0, 1.6640604440353854], (1.6640604440353854, 1310.827961175075], (1310.827961175075, 2619.9918619061145], (2619.9918619061145, 3929.155762637154], (3929.155762637154, 5238.319663368194], (5238.319663368194, inf]], dtype='interval[float64, right]')"
      ]
     },
     "execution_count": 11,
     "metadata": {},
     "output_type": "execute_result"
    }
   ],
   "source": [
    "#Calculate edges\n",
    "dur = df['duration'].copy()\n",
    "numdur = dur[dur.notnull()].astype(float)\n",
    "stddev = numdur.std()\n",
    "mean = numdur.mean()\n",
    "\n",
    "if mean - stddev * 2 < 0:\n",
    "    while mean-2 * stddev < 0:\n",
    "        mean += stddev\n",
    "\n",
    "edgena = float('-inf')\n",
    "edge0 = 0\n",
    "edge1 = mean - stddev * 2\n",
    "edge2 = mean - stddev\n",
    "edge3 = mean\n",
    "edge4 = mean + stddev\n",
    "edge5 = mean + stddev * 2\n",
    "edge6 = float('inf')\n",
    "edges = pd.IntervalIndex.from_arrays([edgena,edge0, edge1, edge2, edge3, edge4, edge5], [edge0, edge1, edge2, edge3, edge4, edge5, edge6])\n",
    "dur[dur.notnull() == False] = -10000\n",
    "cutdur = pd.cut(dur.astype(float), edges, labels=list(range(7)))\n",
    "cutdur.value_counts()"
   ]
  },
  {
   "cell_type": "code",
   "execution_count": 22,
   "metadata": {},
   "outputs": [],
   "source": [
    "df[\"duration\"].loc[df[\"duration\"].notnull() == False] = -10000\n",
    "df['duration'] = pd.qcut(df['duration'].astype(float), q=7, labels=list(range(7)))"
   ]
  }
 ],
 "metadata": {
  "kernelspec": {
   "display_name": "base",
   "language": "python",
   "name": "python3"
  },
  "language_info": {
   "codemirror_mode": {
    "name": "ipython",
    "version": 3
   },
   "file_extension": ".py",
   "mimetype": "text/x-python",
   "name": "python",
   "nbconvert_exporter": "python",
   "pygments_lexer": "ipython3",
   "version": "3.9.13"
  },
  "orig_nbformat": 4
 },
 "nbformat": 4,
 "nbformat_minor": 2
}
