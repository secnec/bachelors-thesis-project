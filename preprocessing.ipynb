{
 "cells": [
  {
   "cell_type": "code",
   "execution_count": null,
   "metadata": {},
   "outputs": [],
   "source": [
    "import pandas as pd\n",
    "import numpy as np\n",
    "import os"
   ]
  },
  {
   "cell_type": "code",
   "execution_count": null,
   "metadata": {},
   "outputs": [],
   "source": [
    "datalocation = './datasets.uwf.edu/data/UWF-ZeekData22/'\n",
    "\n",
    "cols = ['resp_pkts', \n",
    "        'service', \n",
    "        'orig_ip_bytes', \n",
    "        'local_resp', \n",
    "        'missed_bytes',\n",
    "        'protocol', \n",
    "        'duration', \n",
    "        'conn_state', \n",
    "        'dest_ip', \n",
    "        'orig_pkts',\n",
    "        'community_id', \n",
    "        'resp_ip_bytes', \n",
    "        'dest_port', \n",
    "        'orig_bytes',\n",
    "        'local_orig', \n",
    "        'datetime', \n",
    "        'history', \n",
    "        'resp_bytes', \n",
    "        'uid', \n",
    "        'src_port',\n",
    "        'ts', \n",
    "        'src_ip', \n",
    "        'mitre_attack_tactics'\n",
    "        ]\n",
    "\n",
    "df = pd.DataFrame(columns=cols)\n",
    "\n",
    "for root, dirs, files in os.walk(datalocation):\n",
    "    for name in files:\n",
    "        if name.endswith('.csv'):\n",
    "            dfi = pd.read_csv(os.path.join(root, name))       \n",
    "        elif name.endswith('.parquet'):\n",
    "            dfi = pd.read_parquet(os.path.join(root, name), engine='pyarrow')\n",
    "            \n",
    "        else:\n",
    "          continue\n",
    "        if dfi.shape[1] != 23:\n",
    "          print(\"wrong shape: \", os.path.join(name))\n",
    "          continue\n",
    "        print(os.path.join(name))\n",
    "        df =  pd.DataFrame(np.concatenate([df.values, dfi.values]), columns=cols)\n",
    "print(df.shape)\n",
    "        "
   ]
  },
  {
   "cell_type": "code",
   "execution_count": null,
   "metadata": {},
   "outputs": [],
   "source": [
    "df[\"orig_bytes\"].loc[df[\"orig_bytes\"].notnull() == False] = -10000\n",
    "df['orig_bytes'] = pd.qcut(\n",
    "    df['orig_bytes'].astype(float), \n",
    "    q=5, \n",
    "    duplicates='drop')"
   ]
  },
  {
   "cell_type": "code",
   "execution_count": null,
   "metadata": {},
   "outputs": [],
   "source": [
    "df[\"orig_pkts\"].loc[df[\"orig_pkts\"].notnull() == False] = -10000\n",
    "df['orig_pkts'] = pd.qcut(\n",
    "    df['orig_pkts'].astype(float), \n",
    "    q=5,\n",
    "    duplicates='drop')"
   ]
  },
  {
   "attachments": {},
   "cell_type": "markdown",
   "metadata": {},
   "source": [
    "IP bins:\n",
    "- Class A: First octet value 0–126;\n",
    "- Class B: First octet value 128–191;\n",
    "- Class C: First octet value 192–223;\n",
    "- Class D: First octet value 224–239;\n",
    "- Class E: First octet value 240–254.\n",
    "- IPv6 local link (fe80:)\n",
    "- IPv6 global internet (2001:, ff02:)"
   ]
  },
  {
   "cell_type": "code",
   "execution_count": null,
   "metadata": {},
   "outputs": [],
   "source": [
    "df['dest_ip_class'] = df['dest_ip'].str.split('.', expand=True).iloc[:, 0]\n",
    "df['dest_ip_class'] = df['dest_ip_class'].str.split(':', expand=True).iloc[:, 0]\n",
    "df['dest_ip_class'].replace('ff02', '2001', inplace=True)\n",
    "df['dest_ip_class'].replace('fe80', '999', inplace=True)\n",
    "edge0 = float('-inf')\n",
    "edge1 = 127\n",
    "edge2 = 191\n",
    "edge3 = 223\n",
    "edge4 = 239\n",
    "edge5 = 255\n",
    "edge6 = 1000\n",
    "edge7 = float('inf')\n",
    "edges = pd.IntervalIndex.from_arrays([edge0, edge1, edge2, edge3, edge4, edge5, edge6], [edge1, edge2, edge3, edge4, edge5, edge6, edge7])\n",
    "df['dest_ip'] = pd.cut(df['dest_ip_class'].astype(float), edges)"
   ]
  },
  {
   "cell_type": "code",
   "execution_count": null,
   "metadata": {},
   "outputs": [],
   "source": [
    "from sklearn.preprocessing import LabelEncoder\n",
    "\n",
    "le = LabelEncoder()\n",
    "\n",
    "for i in ['service', 'protocol', 'history', 'mitre_attack_tactics', 'orig_pkts', 'orig_bytes', 'dest_ip']:\n",
    "    df[i] = le.fit_transform(df[i])"
   ]
  },
  {
   "cell_type": "code",
   "execution_count": null,
   "metadata": {},
   "outputs": [],
   "source": [
    "#np.save('preprocessed_df', df)\n",
    "df[['orig_bytes', 'orig_pkts', 'history', 'protocol', 'service', 'dest_ip', 'mitre_attack_tactics']].astype(str).to_parquet('preprocessed_df.parquet')"
   ]
  },
  {
   "cell_type": "code",
   "execution_count": null,
   "metadata": {},
   "outputs": [],
   "source": []
  }
 ],
 "metadata": {
  "kernelspec": {
   "display_name": "base",
   "language": "python",
   "name": "python3"
  },
  "language_info": {
   "codemirror_mode": {
    "name": "ipython",
    "version": 3
   },
   "file_extension": ".py",
   "mimetype": "text/x-python",
   "name": "python",
   "nbconvert_exporter": "python",
   "pygments_lexer": "ipython3",
   "version": "3.9.13"
  },
  "orig_nbformat": 4
 },
 "nbformat": 4,
 "nbformat_minor": 2
}
