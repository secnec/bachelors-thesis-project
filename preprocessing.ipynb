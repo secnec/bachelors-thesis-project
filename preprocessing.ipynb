{
 "cells": [
  {
   "cell_type": "code",
   "execution_count": 11,
   "metadata": {},
   "outputs": [],
   "source": [
    "import pandas as pd\n",
    "import numpy as np\n",
    "import os\n",
    "pd.set_option('display.max_columns', None)"
   ]
  },
  {
   "cell_type": "code",
   "execution_count": 12,
   "metadata": {},
   "outputs": [
    {
     "name": "stdout",
     "output_type": "stream",
     "text": [
      "part-00000-36d29ab0-aecd-4e34-8d7a-cf9b94be3fea-c000.csv\n",
      "part-00000-0af89d10-df53-44fd-b124-a8a496fd5023-c000.csv\n",
      "part-00000-8283e5f3-ac2e-4523-a7f0-f98f0c7d879f-c000.csv\n",
      "part-00000-5b4f5c3f-e8a9-4020-8fa1-e8985f7c27f3-c000.csv\n",
      "part-00000-bd55a170-4439-45b0-9122-9a6b9da9760e-c000.csv\n",
      "part-00000-318611a1-7cdc-4dd0-9348-c6368917fd0c-c000.csv\n",
      "part-00000-95e0a460-e7c5-4b35-8367-c2e6fbbcf9e1-c000.csv\n",
      "part-00000-0f7bf56c-ed34-4235-a8d4-1c86eac7ff66-c000.csv\n",
      "part-00000-15e3dd03-ea76-429e-a52a-ce96a90517f9-c000.csv\n",
      "part-00000-12352875-21a6-4bd8-aaf1-922e121ef289-c000.csv\n",
      "part-00000-26e9208e-7819-451b-b23f-2e47f6d1e834-c000.snappy.parquet\n",
      "wrong shape:  part-00000-d32a9d5e-45b7-4e51-807e-1af297aba2df-c000.csv\n",
      "part-00000-df678a79-4a73-452b-8e72-d624b2732f17-c000.snappy.parquet\n",
      "part-00000-b1a9fc13-8068-4a5d-91b2-871438709e81-c000.snappy.parquet\n",
      "part-00000-7c2e9adb-5430-4792-a42b-10ff5bbd46e8-c000.snappy.parquet\n",
      "part-00000-3f86626a-1225-47f9-a5a2-0170b737e404-c000.snappy.parquet\n",
      "part-00000-cbf26680-106d-40e7-8278-60520afdbb0e-c000.snappy.parquet\n",
      "part-00000-36240b61-b84f-4164-a873-d7973e652780-c000.snappy.parquet\n",
      "part-00000-1da06990-329c-4e38-913a-0f0aa39b388d-c000.snappy.parquet\n",
      "(22651908, 23)\n"
     ]
    }
   ],
   "source": [
    "datalocation = './datasets.uwf.edu/data/UWF-ZeekData22/'\n",
    "\n",
    "cols = ['resp_pkts', \n",
    "        'service', \n",
    "        'orig_ip_bytes', \n",
    "        'local_resp', \n",
    "        'missed_bytes',\n",
    "        'protocol', \n",
    "        'duration', \n",
    "        'conn_state', \n",
    "        'dest_ip', \n",
    "        'orig_pkts',\n",
    "        'community_id', \n",
    "        'resp_ip_bytes', \n",
    "        'dest_port', \n",
    "        'orig_bytes',\n",
    "        'local_orig', \n",
    "        'datetime', \n",
    "        'history', \n",
    "        'resp_bytes', \n",
    "        'uid', \n",
    "        'src_port',\n",
    "        'ts', \n",
    "        'src_ip', \n",
    "        'mitre_attack_tactics'\n",
    "        ]\n",
    "\n",
    "df = pd.DataFrame(columns=cols)\n",
    "\n",
    "for root, dirs, files in os.walk(datalocation):\n",
    "    for name in files:\n",
    "        if name.endswith('.csv'):\n",
    "            dfi = pd.read_csv(os.path.join(root, name))       \n",
    "        elif name.endswith('.parquet'):\n",
    "            dfi = pd.read_parquet(os.path.join(root, name), engine='pyarrow')\n",
    "            \n",
    "        else:\n",
    "          continue\n",
    "        if dfi.shape[1] != 23:\n",
    "          print(\"wrong shape: \", os.path.join(name))\n",
    "          continue\n",
    "        print(os.path.join(name))\n",
    "        df =  pd.DataFrame(np.concatenate([df.values, dfi.values]), columns=cols)\n",
    "print(df.shape)\n",
    "        "
   ]
  },
  {
   "cell_type": "code",
   "execution_count": 13,
   "metadata": {},
   "outputs": [],
   "source": [
    "df[\"orig_bytes\"].loc[df[\"orig_bytes\"].notnull() == False] = -10000\n",
    "edges = pd.IntervalIndex.from_breaks([float('-inf'), -1, 0, 78, 156, float('inf')])\n",
    "df['orig_bytes'] = pd.cut(df['orig_bytes'].astype(float), edges)"
   ]
  },
  {
   "cell_type": "code",
   "execution_count": 14,
   "metadata": {},
   "outputs": [
    {
     "name": "stderr",
     "output_type": "stream",
     "text": [
      "/tmp/ipykernel_610/2626207123.py:1: SettingWithCopyWarning: \n",
      "A value is trying to be set on a copy of a slice from a DataFrame\n",
      "\n",
      "See the caveats in the documentation: https://pandas.pydata.org/pandas-docs/stable/user_guide/indexing.html#returning-a-view-versus-a-copy\n",
      "  df[\"orig_pkts\"].loc[df[\"orig_pkts\"].notnull() == False] = -10000\n"
     ]
    }
   ],
   "source": [
    "df[\"orig_pkts\"].loc[df[\"orig_pkts\"].notnull() == False] = -10000\n",
    "edges = pd.IntervalIndex.from_breaks([-1, 0, 1, 2, 3, 4, float('inf')])\n",
    "df['orig_pkts'] = pd.cut(df['orig_pkts'].astype(float), edges)"
   ]
  },
  {
   "attachments": {},
   "cell_type": "markdown",
   "metadata": {},
   "source": [
    "IP bins:\n",
    "- Class A: First octet value 0–126;\n",
    "- Class B: First octet value 128–191;\n",
    "- Class C: First octet value 192–223;\n",
    "- Class D: First octet value 224–239;\n",
    "- Class E: First octet value 240–254.\n",
    "- IPv6 local link (fe80:)\n",
    "- IPv6 global internet (2001:, ff02:)"
   ]
  },
  {
   "cell_type": "code",
   "execution_count": 15,
   "metadata": {},
   "outputs": [],
   "source": [
    "df['dest_ip_class'] = df['dest_ip'].str.split('.', expand=True).iloc[:, 0]\n",
    "df['dest_ip_class'] = df['dest_ip_class'].str.split(':', expand=True).iloc[:, 0]\n",
    "df['dest_ip_class'].replace('ff02', '2001', inplace=True)\n",
    "df['dest_ip_class'].replace('fe80', '999', inplace=True)\n",
    "edge0 = float('-inf')\n",
    "edge1 = 127\n",
    "edge2 = 191\n",
    "edge3 = 223\n",
    "edge4 = 239\n",
    "edge5 = 255\n",
    "edge6 = 1000\n",
    "edge7 = float('inf')\n",
    "edges = pd.IntervalIndex.from_arrays([edge0, edge1, edge2, edge3, edge4, edge5, edge6], [edge1, edge2, edge3, edge4, edge5, edge6, edge7])\n",
    "df['dest_ip'] = pd.cut(df['dest_ip_class'].astype(float), edges)"
   ]
  },
  {
   "cell_type": "code",
   "execution_count": 16,
   "metadata": {},
   "outputs": [],
   "source": [
    "from sklearn.preprocessing import LabelEncoder\n",
    "\n",
    "le = LabelEncoder()\n",
    "\n",
    "for i in ['service', 'protocol', 'history', 'mitre_attack_tactics', 'orig_pkts', 'orig_bytes', 'dest_ip']:\n",
    "    df[i] = le.fit_transform(df[i])"
   ]
  },
  {
   "cell_type": "code",
   "execution_count": 17,
   "metadata": {},
   "outputs": [
    {
     "ename": "",
     "evalue": "",
     "output_type": "error",
     "traceback": [
      "\u001b[1;31mThe Kernel crashed while executing code in the the current cell or a previous cell. Please review the code in the cell(s) to identify a possible cause of the failure. Click <a href='https://aka.ms/vscodeJupyterKernelCrash'>here</a> for more info. View Jupyter <a href='command:jupyter.viewOutput'>log</a> for further details."
     ]
    }
   ],
   "source": [
    "#np.save('preprocessed_df', df)\n",
    "df[['orig_bytes', 'orig_pkts', 'history', 'protocol', 'service', 'dest_ip', 'mitre_attack_tactics']].astype(str).to_parquet('preprocessed_df.parquet')"
   ]
  },
  {
   "cell_type": "code",
   "execution_count": null,
   "metadata": {},
   "outputs": [],
   "source": []
  }
 ],
 "metadata": {
  "kernelspec": {
   "display_name": "base",
   "language": "python",
   "name": "python3"
  },
  "language_info": {
   "codemirror_mode": {
    "name": "ipython",
    "version": 3
   },
   "file_extension": ".py",
   "mimetype": "text/x-python",
   "name": "python",
   "nbconvert_exporter": "python",
   "pygments_lexer": "ipython3",
   "version": "3.9.13"
  },
  "orig_nbformat": 4
 },
 "nbformat": 4,
 "nbformat_minor": 2
}
